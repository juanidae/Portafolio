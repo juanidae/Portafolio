{
 "cells": [
  {
   "cell_type": "markdown",
   "id": "cad3a011",
   "metadata": {},
   "source": [
    "# Variables en Python"
   ]
  },
  {
   "cell_type": "code",
   "execution_count": null,
   "id": "0b17fcd4",
   "metadata": {},
   "outputs": [],
   "source": [
    "# Variables\n",
    "\n",
    "edad = 25\n",
    "altura = 1.75\n",
    "nombre = \"Juan\"\n",
    "es_estudiante = True\n",
    "\n",
    "# modificar el valor de las variables\n",
    "\n",
    "edad = 27\n",
    "altura = 1.80\n",
    "nombre = \"Juan Pérez\"\n",
    "\n",
    "# Acceder a las variables por medio de la funcion print\n",
    "\n",
    "print(\"Edad:\", edad)\n",
    "print(\"Altura:\", altura)\n",
    "print(\"Nombre:\", nombre)\n",
    "print(\"Es estudiante:\", es_estudiante)\n"
   ]
  },
  {
   "cell_type": "markdown",
   "id": "8e08d98a",
   "metadata": {},
   "source": [
    "<span style=\"color:LightCoral\">REGLAS EN NOMBRES DE VARIABLES</span> \n",
    "\n",
    "- Los nombres de variables pueden tener mayusculas o minusculas, digitos y guines bajos\n",
    "\n",
    "- el nombre no puede comenzar con digitos\n",
    "\n",
    "- No se pueden usar palabras reservadas del lenguaje ejemplo for,if,class,try, etc\n",
    "\n",
    "- Python es sensible a mayusculas y minusculas Ejemplo mi_nombre es distinto a Mi_nombre\n",
    "\n",
    "<span style=\"color:LightSkyBlue\">Convenciones y buenas practicas</span>\n",
    "\n",
    "- snake case notacion de serpiente se escribira en minuscula separa con guion bajo\n",
    "- Nombres descriptivos deben reflejar el contenido que almacena la variable\n",
    "- evitar nombres de un solo caracter ya que no son descriptivos y pueden ser confusos\n",
    "\n"
   ]
  },
  {
   "cell_type": "code",
   "execution_count": null,
   "id": "b9f453d1",
   "metadata": {},
   "outputs": [],
   "source": [
    "# Reglas y convenciones en nombres de variables\n",
    "\n",
    "nombre_usuario = \"usuario123\"  # Uso de guion bajo para separar palabras\n",
    "numero_de_telefono = \"1234567890\"  # Uso de snake_case\n",
    "\n",
    "# variables sensibles a mayusculas y minusculas\n",
    "\n",
    "nombre = \"Ana\"\n",
    "Nombre = \"Pedro\"\n",
    "\n",
    "print(\"nombre:\", nombre)\n",
    "print(\"Nombre:\", Nombre)"
   ]
  },
  {
   "cell_type": "markdown",
   "id": "456ce38a",
   "metadata": {},
   "source": [
    "# <span style = \"color:#FF7F7F\">Tipo de datos en python</span>\n",
    "\n",
    "- python es un lenguaje de tipado dinamico por lo que no hay necesidad de indicar el tipo de tipo de la variable al momento de declararla\n",
    "- los valores que pueden almacenar las variables son de distintos tipos como :\n",
    "\n",
    "## <span style = \"color:#FFB347 \"> Numeros (int) </span>\n",
    "son numeros sin la parte decimal ejemplo : 42, 10 , 25\n",
    "\n",
    "## <span style = \"color:#FFB347 \"> Numeros con puntos flotante (float) </span>\n",
    "son numeros separados por un punto ejemplo: 3.1415, -0,001\n",
    "\n",
    "## <span style = \"color:#FFB347 \"> Cadena de texto (str) </span>\n",
    "secuencia de caracteres ejemplo 'hola mundo' o \"Hola mundo\"\n",
    "\n",
    "## <span style = \"color:#FFB347 \"> Booleanos </span>\n",
    "Almacena un valor logico de verdadero (True) o falso (False) este tipo de valores los usaremos para controlar el flujo de programas\n",
    "\n",
    "## <span style = \"color:#FFB347 \"> None </span>\n",
    "Es un tipo especial en python que representa ausencia de valor\n"
   ]
  },
  {
   "cell_type": "markdown",
   "id": "971805ea",
   "metadata": {},
   "source": [
    "# Sistema de reserva de hoteles\n",
    "\n",
    "Crea un sistema de reserva de hoteles que contenga la siguiente informacion de una reserva\n",
    "\n",
    "- nombre del cliente\n",
    "- dias de estancia\n",
    "- tarifa diaria\n",
    "- indicar si el cuarto tiene visita al mar\n",
    "\n",
    "Depues de mandar a imprimir los valores de cada variable\n",
    "\n",
    "- Hacer algunos cambios y re-imprimir"
   ]
  },
  {
   "cell_type": "code",
   "execution_count": 4,
   "id": "da5cef2f",
   "metadata": {},
   "outputs": [
    {
     "name": "stdout",
     "output_type": "stream",
     "text": [
      "*** Sistema de reserva de hoteles ***\n",
      "cliente: Carlos\n",
      "Días de estancia: 5\n",
      "Tarifa diaria: 1200.0\n",
      "habitacion con vista al mar: True\n"
     ]
    }
   ],
   "source": [
    "nombre_cliente = \"Carlos\"\n",
    "dias_estancia = 5\n",
    "tarifa_diaria = 1200.0\n",
    "vista_al_mar = True\n",
    "\n",
    "print('*** Sistema de reserva de hoteles ***')\n",
    "print(\"cliente:\", nombre_cliente)\n",
    "print(\"Días de estancia:\", dias_estancia)\n",
    "print(\"Tarifa diaria:\", tarifa_diaria)\n",
    "print(\"habitacion con vista al mar:\", vista_al_mar)\n"
   ]
  }
 ],
 "metadata": {
  "kernelspec": {
   "display_name": "Python 3",
   "language": "python",
   "name": "python3"
  },
  "language_info": {
   "codemirror_mode": {
    "name": "ipython",
    "version": 3
   },
   "file_extension": ".py",
   "mimetype": "text/x-python",
   "name": "python",
   "nbconvert_exporter": "python",
   "pygments_lexer": "ipython3",
   "version": "3.11.9"
  }
 },
 "nbformat": 4,
 "nbformat_minor": 5
}
